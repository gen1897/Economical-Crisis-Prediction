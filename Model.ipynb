{
 "cells": [
  {
   "cell_type": "markdown",
   "metadata": {},
   "source": [
    "# Set Up"
   ]
  },
  {
   "cell_type": "markdown",
   "metadata": {},
   "source": [
    "**Import libraries**"
   ]
  },
  {
   "cell_type": "code",
   "execution_count": 62,
   "metadata": {},
   "outputs": [],
   "source": [
    "import numpy as np\n",
    "import pandas as pd\n",
    "\n",
    "import seaborn as sns\n",
    "import matplotlib.pyplot as plt\n",
    "%matplotlib inline"
   ]
  },
  {
   "cell_type": "markdown",
   "metadata": {},
   "source": [
    "**Ignore warnings**"
   ]
  },
  {
   "cell_type": "code",
   "execution_count": 63,
   "metadata": {},
   "outputs": [],
   "source": [
    "import warnings\n",
    "warnings.filterwarnings(\"ignore\")"
   ]
  },
  {
   "cell_type": "markdown",
   "metadata": {},
   "source": [
    "**Load dataset**"
   ]
  },
  {
   "cell_type": "code",
   "execution_count": 64,
   "metadata": {},
   "outputs": [],
   "source": [
    "JST_df = pd.read_excel(\"JSTdatasetR4.xlsx\", sheet_name = \"Data\")"
   ]
  },
  {
   "cell_type": "markdown",
   "metadata": {},
   "source": [
    "# Feature Engineering"
   ]
  },
  {
   "cell_type": "markdown",
   "metadata": {},
   "source": [
    "**Precrisis indicator**"
   ]
  },
  {
   "cell_type": "markdown",
   "metadata": {},
   "source": [
    "Crisis have to be predicted before they happen. If we focus on the years with crisis, model will fit the features when it's to late. In order to avoid this, is a good option to create a new target variable with positive value 2 years before a crisis."
   ]
  },
  {
   "cell_type": "code",
   "execution_count": 65,
   "metadata": {},
   "outputs": [],
   "source": [
    "def add_precrisis(df):\n",
    "    df[\"precrisis\"] = 0\n",
    "    \n",
    "    for i in range(1,df.shape[0]):\n",
    "        if (df.loc[i, \"crisisJST\"] == 1):\n",
    "            df.loc[(i-1), \"precrisis\"] = 1\n",
    "            df.loc[(i-2), \"precrisis\"] = 1\n",
    "    return df\n",
    "\n",
    "JST_df = add_precrisis(JST_df)"
   ]
  },
  {
   "cell_type": "markdown",
   "metadata": {},
   "source": [
    "**Features used in the model**"
   ]
  },
  {
   "cell_type": "markdown",
   "metadata": {},
   "source": [
    "Obtain variables used in the model. This includes transformations and creation of new variables. Some variables are expressed as percentual growth since immediate value doesnt mean nothing, it's important to know how they change before a crisis. This way also scales a little bit the values between diferent countries."
   ]
  },
  {
   "cell_type": "code",
   "execution_count": 66,
   "metadata": {},
   "outputs": [],
   "source": [
    "def define_variables(df):\n",
    "    # Slope of the yield curve\n",
    "    df[\"slope\"] = df[\"ltrate\"] - df[\"stir\"]\n",
    "    \n",
    "    # Global credit\n",
    "    df[\"global_credit\"] = 0\n",
    "    for i in range(df.shape[0]):\n",
    "        year_it = df.loc[(i), \"year\"] \n",
    "        df[\"global_credit\"][i] = (df[df[\"year\"] == year_it].tloans.sum() - df.loc[(i), \"tloans\"])/(df[df[\"year\"] == year_it].tloans.shape[0] - 1)\n",
    "    df[\"gr_global_credit\"] = df[\"global_credit\"].pct_change(periods = 2) / df[\"gdp\"]\n",
    "    \n",
    "    # Log CPI\n",
    "    df[\"log_cpi\"] = np.log(df[\"cpi\"])\n",
    "    df[\"gr_log_cpi\"] = df[\"log_cpi\"].pct_change(periods = 2)\n",
    "    \n",
    "    # CA/GDP\n",
    "    df[\"ca_gdp\"] = df[\"ca\"]/df[\"gdp\"]\n",
    "    df[\"gr_ca_gdp\"] = df[\"ca_gdp\"].pct_change(periods = 2)\n",
    "    \n",
    "    # Log RGDP\n",
    "    df[\"log_real_gdp\"] = np.log(df[\"rgdpmad\"])\n",
    "    df[\"gr_log_real_gdp\"] = df[\"log_real_gdp\"].pct_change(periods = 2)\n",
    "    \n",
    "    # Log money\n",
    "    df[\"log_money\"] = np.log(df[\"money\"])\n",
    "    df[\"gr_log_money\"] = df[\"log_money\"].pct_change(periods = 2)\n",
    "    \n",
    "    # Log Domestic Credit\n",
    "    df[\"log_credit\"] = np.log(df[\"tloans\"])\n",
    "    df[\"gr_log_credit\"] = df[\"log_credit\"].pct_change(periods = 2)\n",
    "    \n",
    "    # Inversion\n",
    "    df[\"gr_inv\"] = df[\"iy\"].pct_change(periods = 2)\n",
    "    \n",
    "    # Acumulated Variance\n",
    "    df[\"roll_credit\"] = df.tloans.rolling(window=2 ,center=False).std()\n",
    "    df[\"roll_money\"] = df.money.rolling(window=2 ,center=False).std()\n",
    "    df[\"roll_ltrate\"] = df.ltrate.rolling(window=2 ,center=False).std()\n",
    "    \n",
    "    df[\"gr_gdp\"] = df[\"gdp\"].pct_change(periods = 2)\n",
    "    \n",
    "    return df\n",
    "\n",
    "pre_df = define_variables(JST_df)"
   ]
  },
  {
   "cell_type": "markdown",
   "metadata": {},
   "source": [
    "**Drop Bias PostCrisis**"
   ]
  },
  {
   "cell_type": "markdown",
   "metadata": {},
   "source": [
    "Posterior period from a crisis is a recuperation time where economies are not healthy. Since they don't follow it's normal cycle, it's better to drop the 5 years after a crisis and the year of the crisis itself. By doing this it's easier to avoid possible bias."
   ]
  },
  {
   "cell_type": "code",
   "execution_count": 67,
   "metadata": {},
   "outputs": [],
   "source": [
    "def drop_crisis_bias(df):\n",
    "    df[\"drops\"] = 0\n",
    "    \n",
    "    for i in range(1,(df.shape[0])):\n",
    "        if (df.loc[i, \"crisisJST\"] == 1):\n",
    "            df.loc[i, \"drops\"] = 1\n",
    "            df.loc[(i+1), \"drops\"] = 1\n",
    "            df.loc[(i+2), \"drops\"] = 1\n",
    "            df.loc[(i+3), \"drops\"] = 1\n",
    "            df.loc[(i+4), \"drops\"] = 1\n",
    "            df.loc[(i+5), \"drops\"] = 1  \n",
    "            \n",
    "    df = df[df[\"drops\"] == 0]\n",
    "    df = df.drop([\"drops\"], axis=1)\n",
    "    return df\n",
    "\n",
    "pre_df = drop_crisis_bias(pre_df)"
   ]
  },
  {
   "cell_type": "markdown",
   "metadata": {},
   "source": [
    "**Possible Final features**"
   ]
  },
  {
   "cell_type": "code",
   "execution_count": 68,
   "metadata": {},
   "outputs": [],
   "source": [
    "df = pre_df[[\"precrisis\",\"slope\",\"gr_global_credit\",\"gr_log_cpi\",\"ca_gdp\",\"gr_log_real_gdp\",\"gr_log_money\",\n",
    "            \"gr_log_credit\",\"gr_inv\",\"year\",\"country\",\"stir\",\"gr_ca_gdp\",\"roll_credit\",\"roll_money\",\n",
    "            \"roll_ltrate\",\"gr_gdp\"]]"
   ]
  },
  {
   "cell_type": "markdown",
   "metadata": {},
   "source": [
    "**Delete worst years**"
   ]
  },
  {
   "cell_type": "markdown",
   "metadata": {},
   "source": [
    "Years of Great Depression and World Wars may be excluded from data since they are periods where economy doesnt follow a normal trend."
   ]
  },
  {
   "cell_type": "code",
   "execution_count": 69,
   "metadata": {},
   "outputs": [],
   "source": [
    "def drop_years(df):\n",
    "    excluded_years = [1914,1915,1916,1917,1918,1933,1934,1935,1936,1937,1938,1939,1940,1941,1942,1943,1944,1945]\n",
    "    df = df[~df[\"year\"].isin(excluded_years)]\n",
    "    return df\n",
    "\n",
    "df = drop_years(df)"
   ]
  },
  {
   "cell_type": "markdown",
   "metadata": {},
   "source": [
    "**Delete missing data**"
   ]
  },
  {
   "cell_type": "code",
   "execution_count": 70,
   "metadata": {},
   "outputs": [],
   "source": [
    "df = df.replace(np.inf, np.NaN)\n",
    "df.dropna(inplace=True)"
   ]
  },
  {
   "cell_type": "markdown",
   "metadata": {},
   "source": [
    "**Simplification**"
   ]
  },
  {
   "cell_type": "markdown",
   "metadata": {},
   "source": [
    "Simplify model to 6 nordic countries."
   ]
  },
  {
   "cell_type": "code",
   "execution_count": 71,
   "metadata": {},
   "outputs": [],
   "source": [
    "def select_country(df, paises):\n",
    "    df = df[df[\"country\"].isin(paises)]\n",
    "    return df\n",
    "df = select_country(df,[\"Norway\",\"Switzerland\",\"Finland\",\"Germany\",\"Denmark\",\"Netherlands\"])"
   ]
  },
  {
   "cell_type": "markdown",
   "metadata": {},
   "source": [
    "Simplify to modern years (Post WWII)."
   ]
  },
  {
   "cell_type": "code",
   "execution_count": 72,
   "metadata": {},
   "outputs": [],
   "source": [
    "df = df[df[\"year\"] > 1949]"
   ]
  },
  {
   "cell_type": "markdown",
   "metadata": {},
   "source": [
    "***Why log transformation?***"
   ]
  },
  {
   "cell_type": "code",
   "execution_count": 73,
   "metadata": {},
   "outputs": [],
   "source": [
    "log_dataset_variables = [\"ifs\",\"year\",\"country\",\"crisisJST\",\"precrisis\",\n",
    "                        \"tloans\",\"gdp\",\"ltrate\",\"money\",\"stir\",\"debtgdp\",\n",
    "                        \"ca\",\"cpi\",\"iy\",\"capital_tr\",\"rconpc\",\"rgdpmad\",\n",
    "                        \"rgdppc\"]\n",
    "log_df = JST_df[log_dataset_variables]\n",
    "\n",
    "log_df[\"log_tloans\"] = np.log(JST_df[\"tloans\"])\n",
    "log_df[\"log_ltrate\"] = np.log(JST_df[\"ltrate\"])\n",
    "log_df[\"log_money\"] = np.log(JST_df[\"money\"])\n",
    "log_df[\"log_stir\"] = np.log(JST_df[\"stir\"])\n",
    "log_df[\"log_debtgdp\"] = np.log(JST_df[\"debtgdp\"])\n",
    "log_df[\"log_ca\"] = np.log(JST_df[\"ca\"])\n",
    "log_df[\"log_cpi\"] = np.log(JST_df[\"cpi\"])\n",
    "log_df[\"log_iy\"] = np.log(JST_df[\"iy\"])\n",
    "log_df[\"log_capital_tr\"] = np.log(JST_df[\"capital_tr\"])\n",
    "log_df[\"log_rconpc\"] = np.log(JST_df[\"rconpc\"])\n",
    "log_df[\"log_rgdpmad\"] = np.log(JST_df[\"rgdpmad\"])\n",
    "log_df[\"log_rgdppc\"] = np.log(JST_df[\"rgdppc\"])\n",
    "\n",
    "Norway = log_df[log_df[\"country\"] == \"Norway\"]\n",
    "Switzerland = log_df[log_df[\"country\"] == \"Switzerland\"]\n",
    "Finland = log_df[log_df[\"country\"] == \"Finland\"]\n",
    "Germany = log_df[log_df[\"country\"] == \"Germany\"]\n",
    "Denmark = log_df[log_df[\"country\"] == \"Denmark\"]\n",
    "Netherlands = log_df[log_df[\"country\"] == \"Netherlands\"]"
   ]
  },
  {
   "cell_type": "code",
   "execution_count": 74,
   "metadata": {},
   "outputs": [],
   "source": [
    "def vs_country(df, feature, title):\n",
    "    cris_values = df.crisisJST.values\n",
    "    pre_values = df.precrisis.values\n",
    "    \n",
    "    clrs = [\"blue\" if (x == 1) else \"orange\" for x in cris_values]\n",
    "    \n",
    "    for i in range(0,len(pre_values)):\n",
    "        if (pre_values[i] == 1):\n",
    "            clrs[i] = \"red\"\n",
    "\n",
    "    plt.figure(figsize=(10,6))\n",
    "    ax = plt.bar(df.year, df[feature], label = df.crisisJST, color = clrs) \n",
    "    plt.title(title)\n",
    "    \n",
    "def vs_feature(df,features,title):\n",
    "     \n",
    "    for feature in features:\n",
    "        vs_country(df,feature,\"{}-{}\".format(title,feature))"
   ]
  },
  {
   "cell_type": "markdown",
   "metadata": {},
   "source": [
    "- Long scaled features normalized and standard deviation reduced."
   ]
  },
  {
   "cell_type": "code",
   "execution_count": 75,
   "metadata": {},
   "outputs": [
    {
     "name": "stdout",
     "output_type": "stream",
     "text": [
      "7.030319943519664\n"
     ]
    },
    {
     "data": {
      "text/plain": [
       "<matplotlib.axes._subplots.AxesSubplot at 0x21222f9a748>"
      ]
     },
     "execution_count": 75,
     "metadata": {},
     "output_type": "execute_result"
    },
    {
     "data": {
      "image/png": "[encoded data removed]",
      "text/plain": [
       "<Figure size 432x288 with 1 Axes>"
      ]
     },
     "metadata": {
      "needs_background": "light"
     },
     "output_type": "display_data"
    }
   ],
   "source": [
    "print(log_df[\"log_money\"].std())\n",
    "sns.distplot(log_df[\"log_money\"])"
   ]
  },
  {
   "cell_type": "code",
   "execution_count": 76,
   "metadata": {
    "scrolled": true
   },
   "outputs": [
    {
     "name": "stdout",
     "output_type": "stream",
     "text": [
      "14758446.505403975\n"
     ]
    },
    {
     "data": {
      "text/plain": [
       "<matplotlib.axes._subplots.AxesSubplot at 0x212276664c8>"
      ]
     },
     "execution_count": 76,
     "metadata": {},
     "output_type": "execute_result"
    },
    {
     "data": {
      "image/png": "[encoded data removed]",
      "text/plain": [
       "<Figure size 432x288 with 1 Axes>"
      ]
     },
     "metadata": {
      "needs_background": "light"
     },
     "output_type": "display_data"
    }
   ],
   "source": [
    "print(log_df[\"money\"].std())\n",
    "sns.distplot(log_df[\"money\"])"
   ]
  },
  {
   "cell_type": "markdown",
   "metadata": {},
   "source": [
    "- Make exponential variables more lineal.\n",
    "- Make values more similar between countries aproximating its scale."
   ]
  },
  {
   "cell_type": "code",
   "execution_count": 77,
   "metadata": {
    "scrolled": false
   },
   "outputs": [
    {
     "data": {
      "image/png": "[encoded data removed]",
      "text/plain": [
       "<Figure size 720x432 with 1 Axes>"
      ]
     },
     "metadata": {
      "needs_background": "light"
     },
     "output_type": "display_data"
    },
    {
     "data": {
      "image/png": "[encoded data removed]",
      "text/plain": [
       "<Figure size 720x432 with 1 Axes>"
      ]
     },
     "metadata": {
      "needs_background": "light"
     },
     "output_type": "display_data"
    },
    {
     "data": {
      "image/png": "[encoded data removed]",
      "text/plain": [
       "<Figure size 720x432 with 1 Axes>"
      ]
     },
     "metadata": {
      "needs_background": "light"
     },
     "output_type": "display_data"
    },
    {
     "data": {
      "image/png": "[encoded data removed]",
      "text/plain": [
       "<Figure size 720x432 with 1 Axes>"
      ]
     },
     "metadata": {
      "needs_background": "light"
     },
     "output_type": "display_data"
    }
   ],
   "source": [
    "countries = [Norway, Finland]\n",
    "\n",
    "for country in countries:\n",
    "    vs_feature(country,[\"log_money\", \"money\"], country.country.unique()[0])"
   ]
  },
  {
   "cell_type": "markdown",
   "metadata": {},
   "source": [
    "- Change slightly low-scale data."
   ]
  },
  {
   "cell_type": "code",
   "execution_count": 78,
   "metadata": {},
   "outputs": [
    {
     "name": "stdout",
     "output_type": "stream",
     "text": [
      "0.8054991047713267\n"
     ]
    },
    {
     "data": {
      "text/plain": [
       "<matplotlib.axes._subplots.AxesSubplot at 0x21225b5da88>"
      ]
     },
     "execution_count": 78,
     "metadata": {},
     "output_type": "execute_result"
    },
    {
     "data": {
      "image/png": "[encoded data removed]",
      "text/plain": [
       "<Figure size 432x288 with 1 Axes>"
      ]
     },
     "metadata": {
      "needs_background": "light"
     },
     "output_type": "display_data"
    }
   ],
   "source": [
    "print(log_df[\"log_debtgdp\"].std())\n",
    "sns.distplot(log_df[\"log_debtgdp\"])"
   ]
  },
  {
   "cell_type": "code",
   "execution_count": 79,
   "metadata": {
    "scrolled": true
   },
   "outputs": [
    {
     "name": "stdout",
     "output_type": "stream",
     "text": [
      "0.3911732623546826\n"
     ]
    },
    {
     "data": {
      "text/plain": [
       "<matplotlib.axes._subplots.AxesSubplot at 0x212275afb88>"
      ]
     },
     "execution_count": 79,
     "metadata": {},
     "output_type": "execute_result"
    },
    {
     "data": {
      "image/png": "[encoded data removed]",
      "text/plain": [
       "<Figure size 432x288 with 1 Axes>"
      ]
     },
     "metadata": {
      "needs_background": "light"
     },
     "output_type": "display_data"
    }
   ],
   "source": [
    "print(log_df[\"debtgdp\"].std())\n",
    "sns.distplot(log_df[\"debtgdp\"])"
   ]
  },
  {
   "cell_type": "code",
   "execution_count": 80,
   "metadata": {},
   "outputs": [
    {
     "data": {
      "image/png": "[encoded data removed]",
      "text/plain": [
       "<Figure size 720x432 with 1 Axes>"
      ]
     },
     "metadata": {
      "needs_background": "light"
     },
     "output_type": "display_data"
    },
    {
     "data": {
      "image/png": "[encoded data removed]",
      "text/plain": [
       "<Figure size 720x432 with 1 Axes>"
      ]
     },
     "metadata": {
      "needs_background": "light"
     },
     "output_type": "display_data"
    },
    {
     "data": {
      "image/png": "[encoded data removed]",
      "text/plain": [
       "<Figure size 720x432 with 1 Axes>"
      ]
     },
     "metadata": {
      "needs_background": "light"
     },
     "output_type": "display_data"
    },
    {
     "data": {
      "image/png": "[encoded data removed]",
      "text/plain": [
       "<Figure size 720x432 with 1 Axes>"
      ]
     },
     "metadata": {
      "needs_background": "light"
     },
     "output_type": "display_data"
    }
   ],
   "source": [
    "countries = [Norway, Finland]\n",
    "\n",
    "for country in countries:\n",
    "    vs_feature(country,[\"log_debtgdp\", \"debtgdp\"], country.country.unique()[0])"
   ]
  },
  {
   "cell_type": "markdown",
   "metadata": {},
   "source": [
    "# Model implementatión"
   ]
  },
  {
   "cell_type": "markdown",
   "metadata": {},
   "source": [
    "**Classification function**"
   ]
  },
  {
   "cell_type": "code",
   "execution_count": 81,
   "metadata": {},
   "outputs": [],
   "source": [
    "from sklearn.model_selection import cross_val_predict\n",
    "from sklearn.metrics import confusion_matrix,roc_auc_score\n",
    "\n",
    "\n",
    "def classification(classifier, X, y):\n",
    "    y_train_pred = cross_val_predict(classifier, X, y ,cv=5)\n",
    "    print(\"Confusion matrix:\")\n",
    "    print(confusion_matrix(y, y_train_pred))\n",
    "    print(\"AUC score:\",roc_auc_score(y.values, y_train_pred))"
   ]
  },
  {
   "cell_type": "markdown",
   "metadata": {},
   "source": [
    "Target and variables."
   ]
  },
  {
   "cell_type": "code",
   "execution_count": 82,
   "metadata": {},
   "outputs": [],
   "source": [
    "X = df[[\"slope\",\"gr_global_credit\",\"gr_log_cpi\",\"ca_gdp\",\"gr_log_real_gdp\",\"gr_log_money\",\n",
    "            \"gr_log_credit\",\"gr_inv\"]]\n",
    "\n",
    "y = df[\"precrisis\"]"
   ]
  },
  {
   "cell_type": "markdown",
   "metadata": {},
   "source": [
    "**Logistic Regresion**"
   ]
  },
  {
   "cell_type": "code",
   "execution_count": 83,
   "metadata": {},
   "outputs": [
    {
     "name": "stdout",
     "output_type": "stream",
     "text": [
      "Confusion matrix:\n",
      "[[317  17]\n",
      " [ 15   1]]\n",
      "AUC score: 0.5058008982035929\n"
     ]
    }
   ],
   "source": [
    "from sklearn.linear_model import SGDClassifier\n",
    "\n",
    "sgd_clf = SGDClassifier(random_state=42, penalty=None, loss=\"log\")\n",
    "\n",
    "classification(sgd_clf, X, y)"
   ]
  },
  {
   "cell_type": "markdown",
   "metadata": {},
   "source": [
    "**Random Forest**"
   ]
  },
  {
   "cell_type": "code",
   "execution_count": 84,
   "metadata": {},
   "outputs": [
    {
     "name": "stdout",
     "output_type": "stream",
     "text": [
      "Confusion matrix:\n",
      "[[334   0]\n",
      " [ 14   2]]\n",
      "AUC score: 0.5625\n"
     ]
    }
   ],
   "source": [
    "from sklearn.ensemble import RandomForestClassifier\n",
    "\n",
    "rf_clf = RandomForestClassifier(random_state=42, n_estimators=1000)\n",
    "\n",
    "classification(rf_clf, X, y)"
   ]
  },
  {
   "cell_type": "markdown",
   "metadata": {},
   "source": [
    "**Extremely randomised trees**"
   ]
  },
  {
   "cell_type": "code",
   "execution_count": 85,
   "metadata": {},
   "outputs": [
    {
     "name": "stdout",
     "output_type": "stream",
     "text": [
      "Confusion matrix:\n",
      "[[333   1]\n",
      " [ 16   0]]\n",
      "AUC score: 0.49850299401197606\n"
     ]
    }
   ],
   "source": [
    "from sklearn.ensemble import ExtraTreesClassifier\n",
    "\n",
    "etc_clf = ExtraTreesClassifier(n_estimators=1000, random_state=22)\n",
    "\n",
    "classification(etc_clf, X, y)"
   ]
  },
  {
   "cell_type": "markdown",
   "metadata": {},
   "source": [
    "**Neural network**"
   ]
  },
  {
   "cell_type": "code",
   "execution_count": 86,
   "metadata": {},
   "outputs": [
    {
     "name": "stdout",
     "output_type": "stream",
     "text": [
      "Confusion matrix:\n",
      "[[315  19]\n",
      " [ 13   3]]\n",
      "AUC score: 0.565306886227545\n"
     ]
    }
   ],
   "source": [
    "from sklearn.neural_network import MLPClassifier\n",
    "\n",
    "mlp_clf = MLPClassifier(max_iter=1000, solver=\"lbfgs\", random_state=42)\n",
    "\n",
    "classification(mlp_clf,X,y)"
   ]
  },
  {
   "cell_type": "markdown",
   "metadata": {},
   "source": [
    "**Extreme gradient boosting**"
   ]
  },
  {
   "cell_type": "code",
   "execution_count": 87,
   "metadata": {},
   "outputs": [
    {
     "name": "stdout",
     "output_type": "stream",
     "text": [
      "Confusion matrix:\n",
      "[[332   2]\n",
      " [ 16   0]]\n",
      "AUC score: 0.49700598802395207\n"
     ]
    }
   ],
   "source": [
    "from xgboost import XGBClassifier\n",
    "\n",
    "xgb_clf = XGBClassifier(random_state=42,n_estimators = 1000, learning_rate=0.1,min_child_weight=5)\n",
    "\n",
    "classification(xgb_clf, X ,y)"
   ]
  },
  {
   "cell_type": "markdown",
   "metadata": {},
   "source": [
    "# Optimal hyperparameters GridSearch"
   ]
  },
  {
   "cell_type": "markdown",
   "metadata": {},
   "source": [
    "### Neural Network"
   ]
  },
  {
   "cell_type": "code",
   "execution_count": 88,
   "metadata": {},
   "outputs": [],
   "source": [
    "from sklearn.model_selection import GridSearchCV"
   ]
  },
  {
   "cell_type": "code",
   "execution_count": 89,
   "metadata": {},
   "outputs": [
    {
     "name": "stdout",
     "output_type": "stream",
     "text": [
      "Best params: {'activation': 'identity', 'alpha': 1e-05, 'learning_rate': 'constant', 'random_state': 42, 'solver': 'adam'}\n",
      "Score: 0.7948778833107191\n"
     ]
    }
   ],
   "source": [
    "param_grid = {\"solver\":[\"lbfgs\",\"adam\"],\"learning_rate\":[\"constant\",\"invscaling\",\"adaptative\"],\n",
    "              \"random_state\":[42],\"activation\":[\"identity\",\"logistic\",\"tanh\",\"relu\"],\n",
    "             \"alpha\":[0.00001,0.0005,]}\n",
    "\n",
    "mlp_clf = MLPClassifier()\n",
    "\n",
    "grid_search = GridSearchCV(mlp_clf, param_grid, scoring=\"roc_auc\", cv=5, return_train_score = True)\n",
    "\n",
    "grid_search.fit(X,y)\n",
    "\n",
    "print(\"Best params:\",grid_search.best_params_)\n",
    "print(\"Score:\",grid_search.best_score_)"
   ]
  },
  {
   "cell_type": "code",
   "execution_count": 90,
   "metadata": {},
   "outputs": [
    {
     "name": "stdout",
     "output_type": "stream",
     "text": [
      "Best params: {'activation': 'identity', 'alpha': 1e-05, 'learning_rate': 'constant', 'random_state': 42, 'solver': 'adam'}\n",
      "Score: 0.7948778833107191\n"
     ]
    }
   ],
   "source": [
    "print(\"Best params:\",grid_search.best_params_)\n",
    "print(\"Score:\",grid_search.best_score_)"
   ]
  },
  {
   "cell_type": "markdown",
   "metadata": {},
   "source": [
    "### Logitstic Regresion"
   ]
  },
  {
   "cell_type": "code",
   "execution_count": 91,
   "metadata": {},
   "outputs": [
    {
     "name": "stdout",
     "output_type": "stream",
     "text": [
      "Best params: {'eta0': 0.0001, 'learning_rate': 'optimal', 'loss': 'hinge', 'max_iter': 500, 'penalty': 'elasticnet'}\n",
      "Score: 0.8576888285843509\n"
     ]
    }
   ],
   "source": [
    "param_grid = {\"loss\":[\"hinge\",\"log\",\"squared_loss\",\"huber\",\"epsilon_insensitive\"],\n",
    "             \"penalty\":[\"l2\",\"l1\",\"elasticnet\"],\"max_iter\":[500,1000,1500],\n",
    "             \"learning_rate\":[\"optimal\",\"constant\",\"adaptive\",\"invscaling\"],\n",
    "             \"eta0\":[0.00001,0.0001,0.005,0.1]}\n",
    "\n",
    "clf = SGDClassifier()\n",
    "\n",
    "grid_search = GridSearchCV(clf, param_grid, scoring=\"roc_auc\", cv=5, return_train_score = True)\n",
    "\n",
    "grid_search.fit(X,y)\n",
    "\n",
    "print(\"Best params:\",grid_search.best_params_)\n",
    "print(\"Score:\",grid_search.best_score_)"
   ]
  },
  {
   "cell_type": "markdown",
   "metadata": {},
   "source": [
    "### Random Forest"
   ]
  },
  {
   "cell_type": "code",
   "execution_count": 92,
   "metadata": {},
   "outputs": [
    {
     "name": "stdout",
     "output_type": "stream",
     "text": [
      "Best params: {'class_weight': 'balanced_subsample', 'criterion': 'entropy', 'max_features': 'log2', 'n_estimators': 300, 'random_state': 42}\n",
      "Score: 0.8622003618272274\n"
     ]
    }
   ],
   "source": [
    "param_grid = {\"n_estimators\":[50,100,300,500,1000,1500],\"criterion\":[\"gini\",\"entropy\"],\n",
    "             \"max_features\":[\"auto\",\"sqrt\",\"log2\"],\"random_state\":[42],\n",
    "              \"class_weight\":[\"balanced\",\"balanced_subsample\",None]}\n",
    "\n",
    "clf = RandomForestClassifier()\n",
    "\n",
    "grid_search = GridSearchCV(clf, param_grid, scoring=\"roc_auc\", cv=5, return_train_score = True)\n",
    "\n",
    "grid_search.fit(X,y)\n",
    "\n",
    "print(\"Best params:\",grid_search.best_params_)\n",
    "print(\"Score:\",grid_search.best_score_)"
   ]
  },
  {
   "cell_type": "markdown",
   "metadata": {},
   "source": [
    "###  Extremely randomised trees"
   ]
  },
  {
   "cell_type": "code",
   "execution_count": 93,
   "metadata": {},
   "outputs": [
    {
     "name": "stdout",
     "output_type": "stream",
     "text": [
      "Best params: {'class_weight': None, 'criterion': 'entropy', 'max_features': 'auto', 'n_estimators': 300, 'random_state': 42}\n",
      "Score: 0.8760119855269111\n"
     ]
    }
   ],
   "source": [
    "param_grid = {\"n_estimators\":[50,100,300,500,1000,1500],\"criterion\":[\"gini\",\"entropy\"],\n",
    "             \"max_features\":[\"auto\",\"sqrt\",\"log2\"],\"random_state\":[42],\n",
    "              \"class_weight\":[\"balanced\",\"balanced_subsample\",None]}\n",
    "\n",
    "clf = ExtraTreesClassifier()\n",
    "\n",
    "grid_search = GridSearchCV(clf, param_grid, scoring=\"roc_auc\", cv=5, return_train_score = True)\n",
    "\n",
    "grid_search.fit(X,y)\n",
    "\n",
    "print(\"Best params:\",grid_search.best_params_)\n",
    "print(\"Score:\",grid_search.best_score_)"
   ]
  },
  {
   "cell_type": "markdown",
   "metadata": {},
   "source": [
    "### XGB"
   ]
  },
  {
   "cell_type": "code",
   "execution_count": 94,
   "metadata": {},
   "outputs": [
    {
     "name": "stdout",
     "output_type": "stream",
     "text": [
      "Best params: {'grow_policy': 'depthwise', 'predictor': 'cpu_predictor', 'random_state': 42, 'sampling_method': 'uniform', 'tree_method': 'approx'}\n",
      "Score: 0.8565355042966983\n"
     ]
    }
   ],
   "source": [
    "param_grid = {\"random_state\":[42],\"sampling_method\":[\"uniform\",\"gradient_based\"],\n",
    "             \"tree_method\":[\"auto\",\"exact\",\"approx\",\"hist\",\"gpu_hist\"],\n",
    "             \"grow_policy\":['depthwise', 'lossguide'],\n",
    "             \"predictor\":[\"auto\",\"cpu_predictor\",\"gpu_predictor\"]}\n",
    "\n",
    "clf = XGBClassifier()\n",
    "\n",
    "grid_search = GridSearchCV(clf, param_grid, scoring=\"roc_auc\", cv=5, return_train_score = True)\n",
    "\n",
    "grid_search.fit(X,y)\n",
    "\n",
    "print(\"Best params:\",grid_search.best_params_)\n",
    "print(\"Score:\",grid_search.best_score_)"
   ]
  }
 ],
 "metadata": {
  "kernelspec": {
   "display_name": "Python 3",
   "language": "python",
   "name": "python3"
  },
  "language_info": {
   "codemirror_mode": {
    "name": "ipython",
    "version": 3
   },
   "file_extension": ".py",
   "mimetype": "text/x-python",
   "name": "python",
   "nbconvert_exporter": "python",
   "pygments_lexer": "ipython3",
   "version": "3.7.4"
  }
 },
 "nbformat": 4,
 "nbformat_minor": 4
}
